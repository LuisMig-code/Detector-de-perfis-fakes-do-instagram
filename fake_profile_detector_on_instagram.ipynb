{
  "nbformat": 4,
  "nbformat_minor": 0,
  "metadata": {
    "colab": {
      "name": "fake_profile_detector_on_instagram.ipynb",
      "provenance": [],
      "collapsed_sections": [],
      "authorship_tag": "ABX9TyNj7PaTyQE0TFGVPLmyuExh",
      "include_colab_link": true
    },
    "kernelspec": {
      "name": "python3",
      "display_name": "Python 3"
    },
    "language_info": {
      "name": "python"
    }
  },
  "cells": [
    {
      "cell_type": "markdown",
      "metadata": {
        "id": "view-in-github",
        "colab_type": "text"
      },
      "source": [
        "<a href=\"https://colab.research.google.com/github/LuisMig-code/Detector-de-perfis-fakes-do-instagram/blob/main/fake_profile_detector_on_instagram.ipynb\" target=\"_parent\"><img src=\"https://colab.research.google.com/assets/colab-badge.svg\" alt=\"Open In Colab\"/></a>"
      ]
    },
    {
      "cell_type": "markdown",
      "metadata": {
        "id": "LuCLv6iD8vMV"
      },
      "source": [
        "# **Fakes Profile Detector on Instagram**"
      ]
    },
    {
      "cell_type": "markdown",
      "metadata": {
        "id": "4cAGtaM586ad"
      },
      "source": [
        "[Para ler em Português clique aqui (to read in Portuguese click here)](https://github.com/LuisMig-code/Detector-de-perfis-fakes-do-instagram/blob/main/Detector_de_perfis_fake_no_instagram_PTBR.ipynb)"
      ]
    },
    {
      "cell_type": "markdown",
      "metadata": {
        "id": "PYeufMM69S9e"
      },
      "source": [
        "Created in 2010, Instagram is today one of the largest social networks in the world, occupying the [6th position](https://www.maioresemelhores.com/maiores-redes-sociais-do-mundo/) with more than 1 billion downloads, allowing users to share photos and videos. In addition, it stands out for the possibility of creating online \"businesses\" for the sale of products or services. Instagram has several features, and its relevance to the world technology market is not out of the question!\n",
        "\n",
        "<img src=\"https://images.pexels.com/photos/174938/pexels-photo-174938.jpeg?cs=srgb&dl=pexels-energepiccom-174938.jpg&fm=jpg\" width='500px' align=\"center\">"
      ]
    },
    {
      "cell_type": "markdown",
      "metadata": {
        "id": "nnRNi5cU-CD6"
      },
      "source": [
        "## Let's think!\n",
        "### Understanding the Problem\n",
        "\n",
        "<img src=\"https://image.freepik.com/vetores-gratis/equipe-de-gerentes-de-crise-resolvendo-problemas-do-empresario-funcionarios-com-emaranhado-de-desvendamento-de-lampada-ilustracao-vetorial-para-trabalho-em-equipe-solucao-conceito-de-gestao_74855-10162.jpg\">"
      ]
    },
    {
      "cell_type": "markdown",
      "metadata": {
        "id": "ZoJBhoUJ-jM1"
      },
      "source": [
        "If you are an Instagram user, you have certainly received requests or messages from random profiles, where they are usually people posting dangerous links.\n",
        "\n",
        "They are in fact a danger to users and for that Instagram has an anti-spam system (that is, a system that detects these fakes profiles and prevents them from sending requests to users) to avoid problems.\n",
        "\n",
        "Based on that, what we will do today will be to replicate that same system using Machine Learning in order to provide a model that can prevent an average user from receiving messages and requests."
      ]
    },
    {
      "cell_type": "markdown",
      "metadata": {
        "id": "xlikM5_3-n40"
      },
      "source": [
        "## What about our data?\n",
        "### importing the data"
      ]
    },
    {
      "cell_type": "markdown",
      "metadata": {
        "id": "zUCtiHNQ-42U"
      },
      "source": [
        "The data we will use is available on the [Kaggle](https://www.kaggle.com/free4ever1/instagram-fake-spammer-genuine-accounts) website, where you can find complete descriptions of the data.\n",
        "\n",
        "Data is available for us both to use in training our Machine Learning model and to test its quality (accuracy).\n",
        "\n",
        "Let's start by importing the libraries needed for our analysis"
      ]
    },
    {
      "cell_type": "markdown",
      "metadata": {
        "id": "h3I2vDK4_TIn"
      },
      "source": [
        "**First of all, I would like to point out that some variables and comments in this notebook are in my native language, that is, Brazilian Portuguese**"
      ]
    },
    {
      "cell_type": "code",
      "metadata": {
        "id": "e3L94l279WRL"
      },
      "source": [
        "# importing the necessary packages\n",
        "\n",
        "import pandas as pd\n",
        "import numpy as np\n",
        "import seaborn as sns\n",
        "sns.set_theme()\n",
        "import matplotlib.pyplot as plt\n",
        "\n",
        "\n",
        "# importing the necessary packages into the Machine Learning model\n",
        "from sklearn.metrics import accuracy_score\n",
        "from sklearn.metrics import classification_report\n",
        "\n",
        "from sklearn.ensemble import RandomForestClassifier\n",
        "from sklearn.svm import LinearSVC\n",
        "from sklearn.neighbors import KNeighborsClassifier"
      ],
      "execution_count": 1,
      "outputs": []
    },
    {
      "cell_type": "code",
      "metadata": {
        "id": "u0SjP6Gj_Y5v"
      },
      "source": [
        "link_teste = \"https://www.dropbox.com/s/ap90v0bu9td4k4y/test.csv?dl=1\"\n",
        "link_treino = \"https://www.dropbox.com/s/uanezjf9y1xb2te/train.csv?dl=1\""
      ],
      "execution_count": 2,
      "outputs": []
    },
    {
      "cell_type": "code",
      "metadata": {
        "id": "tjfbT7qM_asJ"
      },
      "source": [
        "df_teste = pd.read_csv(link_teste)\n",
        "df_treino = pd.read_csv(link_treino)"
      ],
      "execution_count": 4,
      "outputs": []
    },
    {
      "cell_type": "markdown",
      "metadata": {
        "id": "q0Aq2GrK_ddU"
      },
      "source": [
        "### Let's understand our data a little better"
      ]
    },
    {
      "cell_type": "markdown",
      "metadata": {
        "id": "_74LhkSp_ozy"
      },
      "source": [
        "It is interesting that in the beginning we know some information about our data, such as data types, whether it has null values and the correlation of the data.\n",
        "\n",
        "However, it is important that we know the variables that we have at our disposal and what they mean, for this, I prepared a kind of summary to obtain such information."
      ]
    },
    {
      "cell_type": "markdown",
      "metadata": {
        "id": "qM1sOQE6_sQW"
      },
      "source": [
        "**Features Dictionary**:\n",
        "\n",
        "1.   **profile pic** : do you have a profile picture or not? (0 for \"doesn't have\" and 1 for \"has\")\n",
        "2.   **nums/lenght username** : proportion of the number of numeric characters in the username in relation to its length\n",
        "3.   **fulname words** : full name in number of words\n",
        "4.   **num/lenght fullname** : relationship between the number of numeric characters in the full name and its length\n",
        "5.   **name==username** : is the username the same as the full name registered? (1 for true and 0 for false)\n",
        "6.   **description length** : number of characters in Bio\n",
        "7.   **external URL** : has external URL in Bio or not\n",
        "8.   **private** : o perfil é privado ? (1 para sim e 0 para não)\n",
        "9.   **#posts** : number of publications\n",
        "10.  **#followers** : number of followers\n",
        "11.  **#follows** : number of profiles the user follows\n",
        "12.  **fake** : 0 for \"is not fake\" and 1 for \"is fake\". **`target variable`**"
      ]
    },
    {
      "cell_type": "markdown",
      "metadata": {
        "id": "-q1GzcEWAb1Z"
      },
      "source": [
        "In possession of this information, we can proceed with our pre-analyzes"
      ]
    },
    {
      "cell_type": "code",
      "metadata": {
        "colab": {
          "base_uri": "https://localhost:8080/"
        },
        "id": "1LaJ0lVaAndm",
        "outputId": "831d843d-a9bb-45ae-c9ec-f5d8a5b112a7"
      },
      "source": [
        "# Tipos de dados\n",
        "df_treino.dtypes"
      ],
      "execution_count": 5,
      "outputs": [
        {
          "output_type": "execute_result",
          "data": {
            "text/plain": [
              "profile pic               int64\n",
              "nums/length username    float64\n",
              "fullname words            int64\n",
              "nums/length fullname    float64\n",
              "name==username            int64\n",
              "description length        int64\n",
              "external URL              int64\n",
              "private                   int64\n",
              "#posts                    int64\n",
              "#followers                int64\n",
              "#follows                  int64\n",
              "fake                      int64\n",
              "dtype: object"
            ]
          },
          "metadata": {
            "tags": []
          },
          "execution_count": 5
        }
      ]
    },
    {
      "cell_type": "code",
      "metadata": {
        "colab": {
          "base_uri": "https://localhost:8080/"
        },
        "id": "HiyzVgKQ_caR",
        "outputId": "2801d2f9-e737-4ec3-b262-71b278735929"
      },
      "source": [
        "print(\"Null Values for our Training Dataset::\\n\")\n",
        "df_treino.isnull().sum()"
      ],
      "execution_count": 7,
      "outputs": [
        {
          "output_type": "stream",
          "text": [
            "Null Values for our Training Dataset::\n",
            "\n"
          ],
          "name": "stdout"
        },
        {
          "output_type": "execute_result",
          "data": {
            "text/plain": [
              "profile pic             0\n",
              "nums/length username    0\n",
              "fullname words          0\n",
              "nums/length fullname    0\n",
              "name==username          0\n",
              "description length      0\n",
              "external URL            0\n",
              "private                 0\n",
              "#posts                  0\n",
              "#followers              0\n",
              "#follows                0\n",
              "fake                    0\n",
              "dtype: int64"
            ]
          },
          "metadata": {
            "tags": []
          },
          "execution_count": 7
        }
      ]
    },
    {
      "cell_type": "code",
      "metadata": {
        "colab": {
          "base_uri": "https://localhost:8080/"
        },
        "id": "QzAoyyNFAr6x",
        "outputId": "b4378f98-f7c3-4381-ec19-eea7c9e54167"
      },
      "source": [
        "print(\"Null Values for our test Dataset:\\n\")\n",
        "df_teste.isnull().sum()"
      ],
      "execution_count": 8,
      "outputs": [
        {
          "output_type": "stream",
          "text": [
            "Null Values for our test Dataset:\n",
            "\n"
          ],
          "name": "stdout"
        },
        {
          "output_type": "execute_result",
          "data": {
            "text/plain": [
              "profile pic             0\n",
              "nums/length username    0\n",
              "fullname words          0\n",
              "nums/length fullname    0\n",
              "name==username          0\n",
              "description length      0\n",
              "external URL            0\n",
              "private                 0\n",
              "#posts                  0\n",
              "#followers              0\n",
              "#follows                0\n",
              "fake                    0\n",
              "dtype: int64"
            ]
          },
          "metadata": {
            "tags": []
          },
          "execution_count": 8
        }
      ]
    },
    {
      "cell_type": "code",
      "metadata": {
        "colab": {
          "base_uri": "https://localhost:8080/",
          "height": 438
        },
        "id": "u3Wpkn8HAxT5",
        "outputId": "ae7e0ae9-d3d9-4e6e-cc52-537ab7b905e6"
      },
      "source": [
        "# correlação entre nossos dados\n",
        "print(\"correlation between our data\")\n",
        "df_treino.corr()[[\"fake\"]]"
      ],
      "execution_count": 9,
      "outputs": [
        {
          "output_type": "stream",
          "text": [
            "correlation between our data\n"
          ],
          "name": "stdout"
        },
        {
          "output_type": "execute_result",
          "data": {
            "text/html": [
              "<div>\n",
              "<style scoped>\n",
              "    .dataframe tbody tr th:only-of-type {\n",
              "        vertical-align: middle;\n",
              "    }\n",
              "\n",
              "    .dataframe tbody tr th {\n",
              "        vertical-align: top;\n",
              "    }\n",
              "\n",
              "    .dataframe thead th {\n",
              "        text-align: right;\n",
              "    }\n",
              "</style>\n",
              "<table border=\"1\" class=\"dataframe\">\n",
              "  <thead>\n",
              "    <tr style=\"text-align: right;\">\n",
              "      <th></th>\n",
              "      <th>fake</th>\n",
              "    </tr>\n",
              "  </thead>\n",
              "  <tbody>\n",
              "    <tr>\n",
              "      <th>profile pic</th>\n",
              "      <td>-0.637315</td>\n",
              "    </tr>\n",
              "    <tr>\n",
              "      <th>nums/length username</th>\n",
              "      <td>0.587687</td>\n",
              "    </tr>\n",
              "    <tr>\n",
              "      <th>fullname words</th>\n",
              "      <td>-0.298793</td>\n",
              "    </tr>\n",
              "    <tr>\n",
              "      <th>nums/length fullname</th>\n",
              "      <td>0.246782</td>\n",
              "    </tr>\n",
              "    <tr>\n",
              "      <th>name==username</th>\n",
              "      <td>0.170695</td>\n",
              "    </tr>\n",
              "    <tr>\n",
              "      <th>description length</th>\n",
              "      <td>-0.460825</td>\n",
              "    </tr>\n",
              "    <tr>\n",
              "      <th>external URL</th>\n",
              "      <td>-0.362809</td>\n",
              "    </tr>\n",
              "    <tr>\n",
              "      <th>private</th>\n",
              "      <td>-0.028586</td>\n",
              "    </tr>\n",
              "    <tr>\n",
              "      <th>#posts</th>\n",
              "      <td>-0.245355</td>\n",
              "    </tr>\n",
              "    <tr>\n",
              "      <th>#followers</th>\n",
              "      <td>-0.093689</td>\n",
              "    </tr>\n",
              "    <tr>\n",
              "      <th>#follows</th>\n",
              "      <td>-0.224835</td>\n",
              "    </tr>\n",
              "    <tr>\n",
              "      <th>fake</th>\n",
              "      <td>1.000000</td>\n",
              "    </tr>\n",
              "  </tbody>\n",
              "</table>\n",
              "</div>"
            ],
            "text/plain": [
              "                          fake\n",
              "profile pic          -0.637315\n",
              "nums/length username  0.587687\n",
              "fullname words       -0.298793\n",
              "nums/length fullname  0.246782\n",
              "name==username        0.170695\n",
              "description length   -0.460825\n",
              "external URL         -0.362809\n",
              "private              -0.028586\n",
              "#posts               -0.245355\n",
              "#followers           -0.093689\n",
              "#follows             -0.224835\n",
              "fake                  1.000000"
            ]
          },
          "metadata": {
            "tags": []
          },
          "execution_count": 9
        }
      ]
    },
    {
      "cell_type": "markdown",
      "metadata": {
        "id": "ohgS6DrUBCT8"
      },
      "source": [
        "In general, our data is made up of number values, we don't have any columns that have values of type \"str\" (ie text), this is important when choosing the model.\n",
        "\n",
        "We also noticed that we have no null values in any of our columns\n",
        "\n",
        "Finally, we saw the correlations between our data, it would be more interesting to see it in the form of a graph. Shall we start our graphical analysis?"
      ]
    },
    {
      "cell_type": "markdown",
      "metadata": {
        "id": "YnqnOiy8BJiZ"
      },
      "source": [
        "### Viewing our data"
      ]
    },
    {
      "cell_type": "markdown",
      "metadata": {
        "id": "hLmSeTKQBOea"
      },
      "source": [
        "Let's start by visualizing our correlation from a heat graph"
      ]
    },
    {
      "cell_type": "code",
      "metadata": {
        "colab": {
          "base_uri": "https://localhost:8080/",
          "height": 837
        },
        "id": "r9zmzvlCBKk5",
        "outputId": "40be3cfc-54ef-4475-d0cc-e9aee6f7efa7"
      },
      "source": [
        "fig, ax = plt.subplots(figsize=(12,12))\n",
        "sns.heatmap(df_treino.corr(), cmap='coolwarm', ax=ax , linewidths=.9)\n",
        "ax.set_title(\"Correlation of the different variables in our data set\")\n",
        "plt.show()"
      ],
      "execution_count": 10,
      "outputs": [
        {
          "output_type": "display_data",
          "data": {
            "image/png": "[encoded data removed]",
            "text/plain": [
              "<Figure size 864x864 with 2 Axes>"
            ]
          },
          "metadata": {
            "tags": [],
            "needs_background": "light"
          }
        }
      ]
    },
    {
      "cell_type": "markdown",
      "metadata": {
        "id": "9xhWTjILBZX_"
      },
      "source": [
        "Furthermore, it is important that we know the proportion of the data in our DataFrame. Let's plot a graph that shows the amount of fakes and not fake in our training data"
      ]
    },
    {
      "cell_type": "code",
      "metadata": {
        "colab": {
          "base_uri": "https://localhost:8080/",
          "height": 581
        },
        "id": "eZoYJ9N8BS8N",
        "outputId": "8547e627-1b20-4aee-d3b3-95643b719d0b"
      },
      "source": [
        "ax = plt.figure(figsize=(10,8))\n",
        "ax = sns.countplot(df_treino.fake , color=\"salmon\")\n",
        "ax.set_title(\"Comparison between fakes and non-fakes on Instagram\" , fontsize=24 , loc=\"center\")\n",
        "ax.set_xlabel(\"Is fake?\")\n",
        "ax.set_ylabel(\"\")\n",
        "ax = ax"
      ],
      "execution_count": 12,
      "outputs": [
        {
          "output_type": "stream",
          "text": [
            "/usr/local/lib/python3.7/dist-packages/seaborn/_decorators.py:43: FutureWarning: Pass the following variable as a keyword arg: x. From version 0.12, the only valid positional argument will be `data`, and passing other arguments without an explicit keyword will result in an error or misinterpretation.\n",
            "  FutureWarning\n"
          ],
          "name": "stderr"
        },
        {
          "output_type": "display_data",
          "data": {
            "image/png": "[encoded data removed]",
            "text/plain": [
              "<Figure size 720x576 with 1 Axes>"
            ]
          },
          "metadata": {
            "tags": [],
            "needs_background": "light"
          }
        }
      ]
    },
    {
      "cell_type": "markdown",
      "metadata": {
        "id": "n8X65861Bq3S"
      },
      "source": [
        "We have equal proportions of data! This is very interesting to prevent our Machine Learning model from being biased towards any given result"
      ]
    },
    {
      "cell_type": "markdown",
      "metadata": {
        "id": "f_vWCMfFByVl"
      },
      "source": [
        "## Machine Learning\n",
        "### Shall we start our predictions?"
      ]
    },
    {
      "cell_type": "markdown",
      "metadata": {
        "id": "vpkFs0qpB4Fe"
      },
      "source": [
        "First of all, I would like to make some **initial reservations** :\n",
        "\n",
        "**1)** We will have 2 sets of data that have been previously made available: the **training data and the test data**, therefore, there will be no need to make previous divisions of the data.\n",
        "\n",
        "**2)** I will use 3 main algorithms: **Random Forest Classifier**, **Linear SVC** and **KNeigbours Classifier**, and from them we will decide which is the best.\n",
        "\n",
        "**3)** I will not make any in-depth explanation of the classifiers, just a few observations about them.\n",
        "\n",
        "<br>\n",
        "<br>\n",
        "\n",
        "<img src=\"https://i.giphy.com/media/CjmvTCZf2U3p09Cn0h/200.webp\">\n",
        "\n",
        "**Come on?**"
      ]
    },
    {
      "cell_type": "markdown",
      "metadata": {
        "id": "yYzHUk6oChOY"
      },
      "source": [
        "### Processing our data:"
      ]
    },
    {
      "cell_type": "markdown",
      "metadata": {
        "id": "JY72QmPPCmyB"
      },
      "source": [
        "Anteriormente disso que não faríamos nenhuma divisão de dados de treino e teste pois já fora nos disponibilizados, entretante , ainda há a necessidade de embaralharmos nossos dados , evitando qualquer viés do nosso modelo de predição. Para isso usaremos o atributo `sample()` da biblioteca *pandas*.\n",
        "\n"
      ]
    },
    {
      "cell_type": "code",
      "metadata": {
        "id": "RO_hPlBRBjca"
      },
      "source": [
        "# misturando os dados \n",
        "df_treino = df_treino.sample(df_treino.shape[0],random_state=28)\n",
        "\n",
        "df_teste = df_teste.sample(df_teste.shape[0],random_state=28)"
      ],
      "execution_count": 13,
      "outputs": []
    },
    {
      "cell_type": "markdown",
      "metadata": {
        "id": "_OxxUYsTCumL"
      },
      "source": [
        "That done, let's think more!\n",
        "\n",
        "What normally occurs in Machine Learning models is the need to scale the data, I will not go into the merit of explaining such functionality in detail, but I think it is important that we know whether or not there is a need.\n",
        "\n",
        "Many of our data are True or False (1 or 0) and small values, with decimal places (for example, 0.33). Starting from this point, **I decided not to do any data scaling** and stayed with them the way they came"
      ]
    },
    {
      "cell_type": "markdown",
      "metadata": {
        "id": "dWHDwSRrC5Bd"
      },
      "source": [
        "### Training and test data"
      ]
    },
    {
      "cell_type": "markdown",
      "metadata": {
        "id": "KrZaMmaqDB9H"
      },
      "source": [
        "The next step is to separate our target variable (Y) and features (X) into different data sets, both for training and testing, in order to start training our Machine Learning model."
      ]
    },
    {
      "cell_type": "code",
      "metadata": {
        "id": "gdZJXhH1CrM8"
      },
      "source": [
        "# dados de treino\n",
        "X_treino = df_treino.drop([\"fake\"] , axis=1)\n",
        "y_treino = df_treino[\"fake\"]\n",
        "\n",
        "# dados de teste\n",
        "X_teste = df_teste.drop([\"fake\"] , axis=1)\n",
        "y_teste = df_teste[\"fake\"]"
      ],
      "execution_count": 14,
      "outputs": []
    },
    {
      "cell_type": "markdown",
      "metadata": {
        "id": "dDJJWm9RDIyH"
      },
      "source": [
        "### Hands On!\n",
        "#### Let's put our hands to work and actually start creating our model"
      ]
    },
    {
      "cell_type": "markdown",
      "metadata": {
        "id": "9CNeNhMnDUR2"
      },
      "source": [
        "#### Random Forest Classifier"
      ]
    },
    {
      "cell_type": "markdown",
      "metadata": {
        "id": "Jdl9h6GbDfMp"
      },
      "source": [
        "The Random Forest Classifier is the first of the algorithms that we will be testing.\n",
        "\n",
        "Well known for being robust and efficient, it is also multi-tasking and can serve both as a Classifier and as a Regressor.\n",
        "\n",
        "In general, the RFC combines several decision trees (another ML algorithm) and forms, as the name says, a forest.\n",
        "\n",
        "As I said earlier, I will not go into details about the logic of the algorithm, if you want to know more [click here](https://massivefile.com/randomforestclassifier/) and read a full article on the topic."
      ]
    },
    {
      "cell_type": "code",
      "metadata": {
        "colab": {
          "base_uri": "https://localhost:8080/"
        },
        "id": "-vJD-ox7DH2S",
        "outputId": "3c6460a3-3af7-40ad-8fe0-21936e5cce4f"
      },
      "source": [
        "modelo = RandomForestClassifier(n_estimators=120 , random_state=28  , max_depth = 100 , max_samples = 350)\n",
        "modelo.fit(X_treino,y_treino)\n",
        "\n",
        "predicoes = modelo.predict(X_teste)\n",
        "\n",
        "print(\"The average accuracy rate of the model with tuning was:\",accuracy_score(y_teste,predicoes))\n",
        "print(classification_report(y_teste,predicoes))"
      ],
      "execution_count": 15,
      "outputs": [
        {
          "output_type": "stream",
          "text": [
            "The average accuracy rate of the model with tuning was: 0.925\n",
            "              precision    recall  f1-score   support\n",
            "\n",
            "           0       0.92      0.93      0.93        60\n",
            "           1       0.93      0.92      0.92        60\n",
            "\n",
            "    accuracy                           0.93       120\n",
            "   macro avg       0.93      0.93      0.92       120\n",
            "weighted avg       0.93      0.93      0.92       120\n",
            "\n"
          ],
          "name": "stdout"
        }
      ]
    },
    {
      "cell_type": "markdown",
      "metadata": {
        "id": "wzhPXRFKDw4q"
      },
      "source": [
        "With the RFC we obtained an average precision of our model of **0.925**. In the end we can see that 92% of the time the model hits it is not fake and 93% of the time it hits it was fake. The result is quite interesting! "
      ]
    },
    {
      "cell_type": "markdown",
      "metadata": {
        "id": "IsNJh0LjD3oD"
      },
      "source": [
        "#### Linear SVC"
      ]
    },
    {
      "cell_type": "markdown",
      "metadata": {
        "id": "9A7dBoeiD8d8"
      },
      "source": [
        "LinearSVC basically tries to create an equation by drawing a line on a plane, which aims to divide our data into the two possible classifications (0 or 1), as shown in the image:\n",
        "\n",
        "<img src=\"https://pythonprogramming.net/static/images/svm/machine-learning-support-vector-machine-linear-svc-example-with-python-and-sklearn-1024x584.png\" width=700>\n",
        "\n",
        "Note that the points on the plane are the data and that the line divides that data into two possible classifications!\n",
        "\n",
        "If you want to know more, access [this article](https://pythonprogramming.net/linear-svc-example-scikit-learn-svm-python/)"
      ]
    },
    {
      "cell_type": "code",
      "metadata": {
        "colab": {
          "base_uri": "https://localhost:8080/"
        },
        "id": "dcy1uCz7Dq_6",
        "outputId": "b61d692e-a14a-4dde-a27f-efcf4b8e7b3c"
      },
      "source": [
        "\n",
        "modelo = LinearSVC(random_state=28)\n",
        "modelo.fit(X_treino,y_treino)\n",
        "\n",
        "predicoes = modelo.predict(X_teste)\n",
        "\n",
        "print(\"The average accuracy of the model was: {}\".format(accuracy_score(y_teste,predicoes) ))\n",
        "print(classification_report(y_teste,predicoes))"
      ],
      "execution_count": 16,
      "outputs": [
        {
          "output_type": "stream",
          "text": [
            "The average accuracy of the model was: 0.6833333333333333\n",
            "              precision    recall  f1-score   support\n",
            "\n",
            "           0       0.96      0.38      0.55        60\n",
            "           1       0.61      0.98      0.76        60\n",
            "\n",
            "    accuracy                           0.68       120\n",
            "   macro avg       0.79      0.68      0.65       120\n",
            "weighted avg       0.79      0.68      0.65       120\n",
            "\n"
          ],
          "name": "stdout"
        },
        {
          "output_type": "stream",
          "text": [
            "/usr/local/lib/python3.7/dist-packages/sklearn/svm/_base.py:947: ConvergenceWarning: Liblinear failed to converge, increase the number of iterations.\n",
            "  \"the number of iterations.\", ConvergenceWarning)\n"
          ],
          "name": "stderr"
        }
      ]
    },
    {
      "cell_type": "markdown",
      "metadata": {
        "id": "hzgm_w5vET2m"
      },
      "source": [
        "What we can see right away is that our model had a very low average accuracy, just **0.683**, which is pretty bad. But if you understand well, to classify as \"fake\" (1) our model had an accuracy of 0.61, while for \"not fake\" (0) it had 0.96.\n",
        "\n",
        "What happens is that Linear SVC is good for formulating an equation where the features (X variables) are numeric and not Boolean (True or False).\n",
        "\n",
        "What we could see is that our model ended up having a bias in the classification"
      ]
    },
    {
      "cell_type": "markdown",
      "metadata": {
        "id": "xrQ_XbVyEWQU"
      },
      "source": [
        "#### KNeighbors Classifier"
      ]
    },
    {
      "cell_type": "markdown",
      "metadata": {
        "id": "6WJzSc7LEZFx"
      },
      "source": [
        "This is the classification model that I find most interesting, what it basically does is a \"grouping\" of the data classifying them. It is not entirely a classification algorithm, but a clustered one. In the end what it does is to find patterns in the two possible classes (0 or 1), that is, imagine the following situation:\n",
        "<br> <br>\n",
        "\n",
        "\n",
        "> Fake profiles **usually** do not have a profile photo\n",
        "\n",
        "\n",
        "> A user without a profile photo sends a message\n",
        "\n",
        "\n",
        "> **There is a high probability** that he is a fake since fakes profiles fit into groups where they **NORMALLY** do not have a profile picture\n",
        "\n",
        "\n",
        "If you want to know more about KNeighborsClassifier, visit the following [article](https://www.tutorialspoint.com/scikit_learn/scikit_learn_kneighbors_classifier.htm)\n",
        "\n"
      ]
    },
    {
      "cell_type": "code",
      "metadata": {
        "colab": {
          "base_uri": "https://localhost:8080/"
        },
        "id": "J90gGUiNEKV7",
        "outputId": "ce7b5203-0073-4a37-ee8e-bae557c077c1"
      },
      "source": [
        "modelo = KNeighborsClassifier(n_neighbors=10 , weights=\"distance\")\n",
        "modelo.fit(X_treino,y_treino)\n",
        "\n",
        "predicoes = modelo.predict(X_teste)\n",
        "\n",
        "print(\"The average accuracy of the model was:\" , accuracy_score(y_teste , predicoes))\n",
        "print(classification_report(y_teste , predicoes))"
      ],
      "execution_count": 17,
      "outputs": [
        {
          "output_type": "stream",
          "text": [
            "The average accuracy of the model was: 0.875\n",
            "              precision    recall  f1-score   support\n",
            "\n",
            "           0       0.86      0.90      0.88        60\n",
            "           1       0.89      0.85      0.87        60\n",
            "\n",
            "    accuracy                           0.88       120\n",
            "   macro avg       0.88      0.88      0.87       120\n",
            "weighted avg       0.88      0.88      0.87       120\n",
            "\n"
          ],
          "name": "stdout"
        }
      ]
    },
    {
      "cell_type": "markdown",
      "metadata": {
        "id": "ztGbJxurFeJk"
      },
      "source": [
        "As I said earlier, KNeighbors is not exactly a ranking algorithm at all, but it manages to play that role well.\n",
        "\n",
        "The average accuracy of our model was 0.875, a relatively good rate, but the Random Forest Classifier brought us greater accuracy."
      ]
    },
    {
      "cell_type": "markdown",
      "metadata": {
        "id": "cySvjmx4FixL"
      },
      "source": [
        "### Bonus: comparison of different results"
      ]
    },
    {
      "cell_type": "markdown",
      "metadata": {
        "id": "ILkbMOnMFnov"
      },
      "source": [
        "Provavelmente se lembra que disse acima que não usaríamos dados escalados , certo? de fato não usaremos , mas como seriam nossos resultados caso tivéssemos feito isso? E se usássemos outros algorítimos de classificação? como seriam?\n",
        "\n",
        "Decidi fazer este teste e disponibilizar um gráfico que mostra os diferentes resultados , tanto para dados escalado quanto não escalados , assim como para mais classificadores"
      ]
    },
    {
      "cell_type": "markdown",
      "metadata": {
        "id": "MZBj0dqLG-eR"
      },
      "source": [
        "![Scaled Data and Unscaled Data.png](data:image/png;base64,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)"
      ]
    },
    {
      "cell_type": "markdown",
      "metadata": {
        "id": "SkYG4gXfGn2o"
      },
      "source": [
        "### Conclusions"
      ]
    },
    {
      "cell_type": "markdown",
      "metadata": {
        "id": "K2pf6iiIGraV"
      },
      "source": [
        "The issue of fakes profiles is not only a simple problem of social networks in general, above that, it costs companies and also, in certain cases, can compromise the experience of certain users on the platform. Obviously, social media companies care about their users and, for that, they have increasingly invested in Data Science technologies in order to improve their customers' experience.\n",
        "\n",
        "Today we saw how to use Machine Learning to detect fake profiles on instagram, with a good detection result, just over 92.5% accuracy rate, which I think is excellent, but it can improve.\n",
        "\n",
        "**I leave the challenge to you, what do you think about improving this model?**"
      ]
    },
    {
      "cell_type": "code",
      "metadata": {
        "id": "UD7gVuMXFY--"
      },
      "source": [
        ""
      ],
      "execution_count": null,
      "outputs": []
    }
  ]
}