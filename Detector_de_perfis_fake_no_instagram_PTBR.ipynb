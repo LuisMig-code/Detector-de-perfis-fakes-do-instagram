{
  "nbformat": 4,
  "nbformat_minor": 0,
  "metadata": {
    "colab": {
      "name": "Detector_de_perfis_fake_no_instagram_PTBR.ipynb",
      "provenance": [],
      "collapsed_sections": [],
      "authorship_tag": "ABX9TyM7Kq1ZTKjuls3Wszi4BkWp",
      "include_colab_link": true
    },
    "kernelspec": {
      "name": "python3",
      "display_name": "Python 3"
    },
    "language_info": {
      "name": "python"
    }
  },
  "cells": [
    {
      "cell_type": "markdown",
      "metadata": {
        "id": "view-in-github",
        "colab_type": "text"
      },
      "source": [
        "<a href=\"https://colab.research.google.com/github/LuisMig-code/Detector-de-perfis-fakes-do-instagram/blob/main/Detector_de_perfis_fake_no_instagram_PTBR.ipynb\" target=\"_parent\"><img src=\"https://colab.research.google.com/assets/colab-badge.svg\" alt=\"Open In Colab\"/></a>"
      ]
    },
    {
      "cell_type": "markdown",
      "metadata": {
        "id": "PfYsAlktJK8H"
      },
      "source": [
        "# **Detector de Perfis Fakes no Instagram**"
      ]
    },
    {
      "cell_type": "markdown",
      "metadata": {
        "id": "MOKM4P4MJQXZ"
      },
      "source": [
        "Criado em 2010 , o Instagram é hoje uma das maiores redes sociais do mundo , ocupando a [6º posição](https://www.maioresemelhores.com/maiores-redes-sociais-do-mundo/) com mais de 1 bilhão de downloads , permitindo aos usuários o compartilhamento de fotos e vídeos. Além disso , se destaca pela possibilidade de criação de \"comércios\" online para venda de produtos ou serviços. São diversas as funcionalidades do instagram , e não é atoa a sua relevância para o mercado mundial de tecnologia ! \n",
        "\n",
        "<img src=\"https://images.pexels.com/photos/174938/pexels-photo-174938.jpeg?cs=srgb&dl=pexels-energepiccom-174938.jpg&fm=jpg\" width='500px' align=\"center\">"
      ]
    },
    {
      "cell_type": "markdown",
      "metadata": {
        "id": "MJLdAntGLI6R"
      },
      "source": [
        "## Vamos Pensar!\n",
        "### Entendendo o Problema:\n",
        "\n",
        "<img src=\"https://image.freepik.com/vetores-gratis/equipe-de-gerentes-de-crise-resolvendo-problemas-do-empresario-funcionarios-com-emaranhado-de-desvendamento-de-lampada-ilustracao-vetorial-para-trabalho-em-equipe-solucao-conceito-de-gestao_74855-10162.jpg\">\n"
      ]
    },
    {
      "cell_type": "markdown",
      "metadata": {
        "id": "LONtNh-zLN6J"
      },
      "source": [
        "Se você é um usuário do instagram , com certeza já recebeu solicitações ou mensagens de perfis aleatórios , onde normalmente são pessoas divulgando links perigosos. \n",
        "\n",
        "Eles são de fato um perigo para os usuários e para isso o Instagram usufrui de um sistema *anti-spam* (ou seja , um sistema que detecte esses perfis fakes e os impedem de enviar solicitações ao usuários) para evitar problemas.\n",
        "\n",
        "\n",
        "A partir disso , o que faremos hoje será replicar esse mesmo sistema usando *Machine Learning* a fim de fornecer um modelo que possa impedir um usuário comum de ficar recebendo mensagens e solicitações."
      ]
    },
    {
      "cell_type": "markdown",
      "metadata": {
        "id": "GaSSdepsMtNS"
      },
      "source": [
        "## E Nossos Dados?\n",
        "\n",
        "### Fazendo o import dos dados:"
      ]
    },
    {
      "cell_type": "markdown",
      "metadata": {
        "id": "kBwQ0SHkNKXV"
      },
      "source": [
        "Os dados que usaremos estão disponíveis no site [Kaggle](https://www.kaggle.com/free4ever1/instagram-fake-spammer-genuine-accounts) , lá você pode encontrar descrições completas dos dados.\n",
        "\n",
        "Estão disponíveis dados tanto para fazermos uso no treinamento do nosso modelo de *Machine Learning* quanto para o teste de qualidade (precisão) dele.\n",
        "\n",
        "Vamos começar importando as bibliotecas necessárias para nossas análises"
      ]
    },
    {
      "cell_type": "code",
      "metadata": {
        "id": "i7sPwfssLNWp"
      },
      "source": [
        "# importando os pacotes necessários\n",
        "\n",
        "import pandas as pd\n",
        "import numpy as np\n",
        "import seaborn as sns\n",
        "sns.set_theme()\n",
        "import matplotlib.pyplot as plt\n",
        "\n",
        "\n",
        "# importando os pacotes necessários para o modelo de Machine Learning\n",
        "from sklearn.metrics import accuracy_score\n",
        "from sklearn.metrics import classification_report\n",
        "\n",
        "from sklearn.ensemble import RandomForestClassifier\n",
        "from sklearn.svm import LinearSVC\n",
        "from sklearn.neighbors import KNeighborsClassifier"
      ],
      "execution_count": null,
      "outputs": []
    },
    {
      "cell_type": "code",
      "metadata": {
        "id": "451_kvFTOBBJ"
      },
      "source": [
        "link_teste = \"https://www.dropbox.com/s/ap90v0bu9td4k4y/test.csv?dl=1\"\n",
        "link_treino = \"https://www.dropbox.com/s/uanezjf9y1xb2te/train.csv?dl=1\""
      ],
      "execution_count": null,
      "outputs": []
    },
    {
      "cell_type": "code",
      "metadata": {
        "id": "z9OjPNrvQBnz"
      },
      "source": [
        "df_teste = pd.read_csv(link_teste)\n",
        "df_treino = pd.read_csv(link_treino)"
      ],
      "execution_count": null,
      "outputs": []
    },
    {
      "cell_type": "markdown",
      "metadata": {
        "id": "JsxR3lrdUE68"
      },
      "source": [
        "### Vamos entender um pouco melhor nossos dados"
      ]
    },
    {
      "cell_type": "markdown",
      "metadata": {
        "id": "MLhbrXOQXxFk"
      },
      "source": [
        "É interessante que no começo saibamos algumas informações sobre nossos dados , tais como os tipos de dados , saber se tem valores nulos e a correlação dos dados.\n",
        "\n",
        "Entretanto , é importante que saibamos as variáveis que temos a nossa disposição e o que elas significam, para isso , preparei uma espécie de sumário para obtermos tal informação."
      ]
    },
    {
      "cell_type": "markdown",
      "metadata": {
        "id": "fNWJqS9xc3yz"
      },
      "source": [
        "**Dicionário das Features:**\n",
        "\n",
        "\n",
        "1.   **profile pic** : tem ou não tem foto de perfil? (0 para \"não tem\" e 1 para \"tem\")\n",
        "2.   **nums/lenght username** : proporção do número de caracteres numéricos no nome de usuário em relação ao seu comprimento\n",
        "3.   **fulname words** : nome completo em numero de palavras\n",
        "4.   **num/lenght fullname** : relação entre o número de caracteres numéricos no nome completo e seu comprimento\n",
        "5.   **name==username** : o nome de usuário e igual ao nome completo cadastrado ? (1 para verdadeiro e 0 para falso)\n",
        "6.   **description length** : número de caracteres da Bio\n",
        "7.   **external URL** : tem URL externo na Bio ou não\n",
        "8.   **private** : o perfil é privado ? (1 para sim e 0 para não)\n",
        "9.   **#posts** : número de publicações\n",
        "10.  **#followers** : número de seguidores\n",
        "11.  **#follows** : número de perfis que o usuário segue\n",
        "12.  **fake** : 0 para \"não é fake\" e 1 para \"é fake\". **`variável alvo`**\n",
        "\n"
      ]
    },
    {
      "cell_type": "markdown",
      "metadata": {
        "id": "GL-sjFNufmTL"
      },
      "source": [
        "Em posse estas informações, podemos prosseguir com nossas pré-analises"
      ]
    },
    {
      "cell_type": "code",
      "metadata": {
        "colab": {
          "base_uri": "https://localhost:8080/"
        },
        "id": "L65Hr8glT5mj",
        "outputId": "a138f885-6a85-4952-f78a-c3e1f2930515"
      },
      "source": [
        "# Tipos de dados\n",
        "df_treino.dtypes"
      ],
      "execution_count": null,
      "outputs": [
        {
          "output_type": "execute_result",
          "data": {
            "text/plain": [
              "profile pic               int64\n",
              "nums/length username    float64\n",
              "fullname words            int64\n",
              "nums/length fullname    float64\n",
              "name==username            int64\n",
              "description length        int64\n",
              "external URL              int64\n",
              "private                   int64\n",
              "#posts                    int64\n",
              "#followers                int64\n",
              "#follows                  int64\n",
              "fake                      int64\n",
              "dtype: object"
            ]
          },
          "metadata": {
            "tags": []
          },
          "execution_count": 5
        }
      ]
    },
    {
      "cell_type": "code",
      "metadata": {
        "colab": {
          "base_uri": "https://localhost:8080/"
        },
        "id": "Ba9g2zU2X_YC",
        "outputId": "d65c1209-f42a-4d8e-a4b1-44601dd8efe9"
      },
      "source": [
        "print(\"Valores Nulos para nosso Dataset de treino:\\n\")\n",
        "df_treino.isnull().sum()"
      ],
      "execution_count": null,
      "outputs": [
        {
          "output_type": "stream",
          "text": [
            "Valores Nulos para nosso Dataset de treino:\n",
            "\n"
          ],
          "name": "stdout"
        },
        {
          "output_type": "execute_result",
          "data": {
            "text/plain": [
              "profile pic             0\n",
              "nums/length username    0\n",
              "fullname words          0\n",
              "nums/length fullname    0\n",
              "name==username          0\n",
              "description length      0\n",
              "external URL            0\n",
              "private                 0\n",
              "#posts                  0\n",
              "#followers              0\n",
              "#follows                0\n",
              "fake                    0\n",
              "dtype: int64"
            ]
          },
          "metadata": {
            "tags": []
          },
          "execution_count": 6
        }
      ]
    },
    {
      "cell_type": "code",
      "metadata": {
        "colab": {
          "base_uri": "https://localhost:8080/"
        },
        "id": "nt-3uIBJYK14",
        "outputId": "551fbd44-bf6e-45cd-f7d1-e6855cd54165"
      },
      "source": [
        "print(\"Valores Nulos para nosso Dataset de teste:\\n\")\n",
        "df_teste.isnull().sum()"
      ],
      "execution_count": null,
      "outputs": [
        {
          "output_type": "stream",
          "text": [
            "Valores Nulos para nosso Dataset de teste:\n",
            "\n"
          ],
          "name": "stdout"
        },
        {
          "output_type": "execute_result",
          "data": {
            "text/plain": [
              "profile pic             0\n",
              "nums/length username    0\n",
              "fullname words          0\n",
              "nums/length fullname    0\n",
              "name==username          0\n",
              "description length      0\n",
              "external URL            0\n",
              "private                 0\n",
              "#posts                  0\n",
              "#followers              0\n",
              "#follows                0\n",
              "fake                    0\n",
              "dtype: int64"
            ]
          },
          "metadata": {
            "tags": []
          },
          "execution_count": 7
        }
      ]
    },
    {
      "cell_type": "code",
      "metadata": {
        "colab": {
          "base_uri": "https://localhost:8080/",
          "height": 421
        },
        "id": "q9r_CeJMYTVf",
        "outputId": "890b1cd1-9886-40b6-eb92-b48fc13976f4"
      },
      "source": [
        "# correlação entre nossos dados\n",
        "df_treino.corr()[[\"fake\"]]"
      ],
      "execution_count": null,
      "outputs": [
        {
          "output_type": "execute_result",
          "data": {
            "text/html": [
              "<div>\n",
              "<style scoped>\n",
              "    .dataframe tbody tr th:only-of-type {\n",
              "        vertical-align: middle;\n",
              "    }\n",
              "\n",
              "    .dataframe tbody tr th {\n",
              "        vertical-align: top;\n",
              "    }\n",
              "\n",
              "    .dataframe thead th {\n",
              "        text-align: right;\n",
              "    }\n",
              "</style>\n",
              "<table border=\"1\" class=\"dataframe\">\n",
              "  <thead>\n",
              "    <tr style=\"text-align: right;\">\n",
              "      <th></th>\n",
              "      <th>fake</th>\n",
              "    </tr>\n",
              "  </thead>\n",
              "  <tbody>\n",
              "    <tr>\n",
              "      <th>profile pic</th>\n",
              "      <td>-0.637315</td>\n",
              "    </tr>\n",
              "    <tr>\n",
              "      <th>nums/length username</th>\n",
              "      <td>0.587687</td>\n",
              "    </tr>\n",
              "    <tr>\n",
              "      <th>fullname words</th>\n",
              "      <td>-0.298793</td>\n",
              "    </tr>\n",
              "    <tr>\n",
              "      <th>nums/length fullname</th>\n",
              "      <td>0.246782</td>\n",
              "    </tr>\n",
              "    <tr>\n",
              "      <th>name==username</th>\n",
              "      <td>0.170695</td>\n",
              "    </tr>\n",
              "    <tr>\n",
              "      <th>description length</th>\n",
              "      <td>-0.460825</td>\n",
              "    </tr>\n",
              "    <tr>\n",
              "      <th>external URL</th>\n",
              "      <td>-0.362809</td>\n",
              "    </tr>\n",
              "    <tr>\n",
              "      <th>private</th>\n",
              "      <td>-0.028586</td>\n",
              "    </tr>\n",
              "    <tr>\n",
              "      <th>#posts</th>\n",
              "      <td>-0.245355</td>\n",
              "    </tr>\n",
              "    <tr>\n",
              "      <th>#followers</th>\n",
              "      <td>-0.093689</td>\n",
              "    </tr>\n",
              "    <tr>\n",
              "      <th>#follows</th>\n",
              "      <td>-0.224835</td>\n",
              "    </tr>\n",
              "    <tr>\n",
              "      <th>fake</th>\n",
              "      <td>1.000000</td>\n",
              "    </tr>\n",
              "  </tbody>\n",
              "</table>\n",
              "</div>"
            ],
            "text/plain": [
              "                          fake\n",
              "profile pic          -0.637315\n",
              "nums/length username  0.587687\n",
              "fullname words       -0.298793\n",
              "nums/length fullname  0.246782\n",
              "name==username        0.170695\n",
              "description length   -0.460825\n",
              "external URL         -0.362809\n",
              "private              -0.028586\n",
              "#posts               -0.245355\n",
              "#followers           -0.093689\n",
              "#follows             -0.224835\n",
              "fake                  1.000000"
            ]
          },
          "metadata": {
            "tags": []
          },
          "execution_count": 8
        }
      ]
    },
    {
      "cell_type": "markdown",
      "metadata": {
        "id": "sf2vJOT2ZNbV"
      },
      "source": [
        "De maneira geral, nossos dados são compostos por valores números , não temos nenhuma coluna que tenha valores do tipo \"str\" (ou seja , texto) , isso é importante na escolha do modelo.\n",
        "\n",
        "Notamos também que não temos valores nulos em nenhuma das nossas colunas\n",
        "\n",
        "Por fim , vimos as correlações entre nossos dados , seria mais interessante vê-la em forma de gráfico. Vamos começar nossas análises gráficas?"
      ]
    },
    {
      "cell_type": "markdown",
      "metadata": {
        "id": "D3sS_LqeZoff"
      },
      "source": [
        "### Visualisando nossos dados"
      ]
    },
    {
      "cell_type": "markdown",
      "metadata": {
        "id": "FfmG0p7rbvoD"
      },
      "source": [
        "Vamos começar visualizando nossa correlação a partir de um gráfico de calor"
      ]
    },
    {
      "cell_type": "code",
      "metadata": {
        "colab": {
          "base_uri": "https://localhost:8080/",
          "height": 837
        },
        "id": "x0hXMCfiZLRa",
        "outputId": "a1a85bfa-cacc-404e-d3db-192eb1a3cc39"
      },
      "source": [
        "fig, ax = plt.subplots(figsize=(12,12))\n",
        "sns.heatmap(df_treino.corr(), cmap='coolwarm', ax=ax , linewidths=.9)\n",
        "ax.set_title(\"Correlação das diferentes variáveis em nosso conjunto de dados\")\n",
        "plt.show()"
      ],
      "execution_count": null,
      "outputs": [
        {
          "output_type": "display_data",
          "data": {
            "image/png": "[encoded data removed]",
            "text/plain": [
              "<Figure size 864x864 with 2 Axes>"
            ]
          },
          "metadata": {
            "tags": []
          }
        }
      ]
    },
    {
      "cell_type": "markdown",
      "metadata": {
        "id": "pWyZfT3rVk5J"
      },
      "source": [
        "Ademais , é importante que saibamos a proporção dos dados em nosso *DataFrame*. Vamos plotar um gráfico que mostre a quantidade de fakes e não fake em nossos dados de treino"
      ]
    },
    {
      "cell_type": "code",
      "metadata": {
        "id": "Q_ogZ8PWcUbq",
        "colab": {
          "base_uri": "https://localhost:8080/",
          "height": 582
        },
        "outputId": "0eb12818-ae06-4b0a-91e4-210cb72d2921"
      },
      "source": [
        "ax = plt.figure(figsize=(10,8))\n",
        "ax = sns.countplot(df_treino.fake , color=\"salmon\")\n",
        "ax.set_title(\"Comparação entre fakes e não fakes no Instagram\" , fontsize=26 , loc=\"center\")\n",
        "ax.set_xlabel(\"É fake?\")\n",
        "ax.set_ylabel(\"\")\n",
        "ax = ax"
      ],
      "execution_count": null,
      "outputs": [
        {
          "output_type": "stream",
          "text": [
            "/usr/local/lib/python3.7/dist-packages/seaborn/_decorators.py:43: FutureWarning: Pass the following variable as a keyword arg: x. From version 0.12, the only valid positional argument will be `data`, and passing other arguments without an explicit keyword will result in an error or misinterpretation.\n",
            "  FutureWarning\n"
          ],
          "name": "stderr"
        },
        {
          "output_type": "display_data",
          "data": {
            "image/png": "[encoded data removed]",
            "text/plain": [
              "<Figure size 720x576 with 1 Axes>"
            ]
          },
          "metadata": {
            "tags": []
          }
        }
      ]
    },
    {
      "cell_type": "markdown",
      "metadata": {
        "id": "W_SmGKM9XE4G"
      },
      "source": [
        "Temos iguais proporções de dados! Isso é bem interessante para evitar que nosso modelo de *Machine Learning* fique enviesado para algum determinado resultado. "
      ]
    },
    {
      "cell_type": "markdown",
      "metadata": {
        "id": "j2oSKQ3aYb87"
      },
      "source": [
        "## Machine Learning\n",
        "### Vamos começar nossas predições ?"
      ]
    },
    {
      "cell_type": "markdown",
      "metadata": {
        "id": "tvlwaUEuYjKI"
      },
      "source": [
        "Antes de tudo, gostaria de fazer algumas **ressalvas inicias**: <br><br>\n",
        "\n",
        "**1)** Teremos 2 conjuntos de dados que já foram previamente disponibilizados: os **dados de treino e os dados de teste**, portanto , não haverá necessidade de fazer divisões prévia dos dados. \n",
        "\n",
        "**2)** Usarei 3 algorítimos principais : **Random Forest Classifier** , **Linear SVC** e **KNeigbours Classifier** , e a partir deles decidiremos qual o melhor.\n",
        "\n",
        "**3)** Não farei nenhuma explicação aprofundada sobre os classificadores , apenas algumas observações sobre eles.\n",
        "\n",
        "<br>\n",
        "<br>\n",
        "\n",
        "<img src=\"https://i.giphy.com/media/CjmvTCZf2U3p09Cn0h/200.webp\">\n",
        "\n",
        "**Vamos lá?**"
      ]
    },
    {
      "cell_type": "markdown",
      "metadata": {
        "id": "eMz0sf89aeb6"
      },
      "source": [
        "### Processando nossos dados:"
      ]
    },
    {
      "cell_type": "markdown",
      "metadata": {
        "id": "kGMTPG2oahkS"
      },
      "source": [
        "Anteriormente disso que não faríamos nenhuma divisão de dados de treino e teste pois já fora nos disponibilizados, entretante , ainda há a necessidade de embaralharmos nossos dados , evitando qualquer viés do nosso modelo de predição. Para isso usaremos o atributo `sample()` da biblioteca *pandas*."
      ]
    },
    {
      "cell_type": "code",
      "metadata": {
        "id": "rw_BN4hLVkjz"
      },
      "source": [
        "# misturando os dados \n",
        "df_treino = df_treino.sample(df_treino.shape[0],random_state=28)\n",
        "\n",
        "df_teste = df_teste.sample(df_teste.shape[0],random_state=28)"
      ],
      "execution_count": null,
      "outputs": []
    },
    {
      "cell_type": "markdown",
      "metadata": {
        "id": "EfmNLZYha9YB"
      },
      "source": [
        "Feito isso , vamos raciocinar mais! \n",
        "\n",
        "O que ocorre normalmente em modelos de Machine Learning é a necessidade de *escalar* os dados , não entrarei no mérito de explicar minuciosamente tal funcionalidade , mas acho importante que saibamos se há ou não a necessidade.\n",
        "\n",
        "Muitos de nossos dados são de `Verdadeiro` ou `Falso` (1 ou 0) e valores pequenos , com casas decimais (0,33 por exemplo). Partindo deste ponto , **juguei desnecessário** fazer qualquer escalamento de dados e permaneci com eles da forma que vieram ."
      ]
    },
    {
      "cell_type": "markdown",
      "metadata": {
        "id": "6io9MLcSb8Jy"
      },
      "source": [
        "### Dados de treino e teste"
      ]
    },
    {
      "cell_type": "markdown",
      "metadata": {
        "id": "YmjlluLhb-rZ"
      },
      "source": [
        "A próxima etapa é separar nossa **variável alvo(Y)** e as **features(X)** em diferentes conjuntos de dados , tanto para o treino quanto para o teste , afim de inicar o treinamento do nosso modelo de *Machine Learning*."
      ]
    },
    {
      "cell_type": "code",
      "metadata": {
        "id": "n8mnY7aTa8gc"
      },
      "source": [
        "# dados de treino\n",
        "X_treino = df_treino.drop([\"fake\"] , axis=1)\n",
        "y_treino = df_treino[\"fake\"]\n",
        "\n",
        "# dados de teste\n",
        "X_teste = df_teste.drop([\"fake\"] , axis=1)\n",
        "y_teste = df_teste[\"fake\"]"
      ],
      "execution_count": null,
      "outputs": []
    },
    {
      "cell_type": "markdown",
      "metadata": {
        "id": "NOc4XbqydUXi"
      },
      "source": [
        "### Hands On!\n",
        "#### Vamos colocar a mão na massa e começar de fato a criar nosso modelo"
      ]
    },
    {
      "cell_type": "markdown",
      "metadata": {
        "id": "4FO4gIbEdf48"
      },
      "source": [
        "#### Random Forest Classifier"
      ]
    },
    {
      "cell_type": "markdown",
      "metadata": {
        "id": "d9cm5WgGeAjg"
      },
      "source": [
        "O Random Forest Classifier é o primeiro dos algorítmos que iremos testar.\n",
        "\n",
        "Muito conhecido por ser robusto e eficiente , ele é também multi-tarefas , podendo servir tanto como Classificador quanto como Regressor.\n",
        "\n",
        "De forma geral o RFC combina várias arvores de decisões (outro algorítimo de *ML*) e forma , como o próprio nome diz , uma floresta.\n",
        "\n",
        "Como disse anteriormente , não entrarei em detalhes sobre a lógica do algorítimo , caso queira saber mais clique [aqui](https://massivefile.com/randomforestclassifier/) e leia um artigo completo sobre o tema."
      ]
    },
    {
      "cell_type": "code",
      "metadata": {
        "colab": {
          "base_uri": "https://localhost:8080/"
        },
        "id": "Q4bQxqx1c4rB",
        "outputId": "095e9730-ca9f-4c5a-a463-a6d38d5bcb16"
      },
      "source": [
        "modelo = RandomForestClassifier(n_estimators=120 , random_state=28  , max_depth = 100 , max_samples = 350)\n",
        "modelo.fit(X_treino,y_treino)\n",
        "\n",
        "predicoes = modelo.predict(X_teste)\n",
        "\n",
        "print(\"A taxa de acurácia média do modelo com tunning foi de:\",accuracy_score(y_teste,predicoes))\n",
        "print(classification_report(y_teste,predicoes))"
      ],
      "execution_count": null,
      "outputs": [
        {
          "output_type": "stream",
          "text": [
            "A taxa de acurácia média do modelo com tunning foi de: 0.925\n",
            "              precision    recall  f1-score   support\n",
            "\n",
            "           0       0.92      0.93      0.93        60\n",
            "           1       0.93      0.92      0.92        60\n",
            "\n",
            "    accuracy                           0.93       120\n",
            "   macro avg       0.93      0.93      0.92       120\n",
            "weighted avg       0.93      0.93      0.92       120\n",
            "\n"
          ],
          "name": "stdout"
        }
      ]
    },
    {
      "cell_type": "markdown",
      "metadata": {
        "id": "kpioN0M5ezqn"
      },
      "source": [
        "Com o RFC obtivemos uma precisão média do nosso modelo de **0.925** . No fim podemos ver que 92% das vezes so modelo acerta que não é fake e 93% das vezes acerta que era fake. O resultado é bem interessante!"
      ]
    },
    {
      "cell_type": "markdown",
      "metadata": {
        "id": "U4hIrxmgfnBo"
      },
      "source": [
        "#### Linear SVC"
      ]
    },
    {
      "cell_type": "markdown",
      "metadata": {
        "id": "0m_Q3-vEgCgO"
      },
      "source": [
        "O linear SVC basicamente tenta criar uma equação ,traçando uma linha em um plano , que visa dividir nossos dados nas duas possíveis classificações (0 ou 1), assim como mostrado na imagem:\n",
        "\n",
        "<img src=\"https://pythonprogramming.net/static/images/svm/machine-learning-support-vector-machine-linear-svc-example-with-python-and-sklearn-1024x584.png\" width=700>\n",
        "\n",
        "Perceba que os pontos no plano são os dados e que a reta divide esses dados na duas possíveis classificações!\n",
        "\n",
        "Caso queira saber mais , acesse este [artigo](https://pythonprogramming.net/linear-svc-example-scikit-learn-svm-python/)"
      ]
    },
    {
      "cell_type": "code",
      "metadata": {
        "colab": {
          "base_uri": "https://localhost:8080/"
        },
        "id": "qIfOU3gJeyhx",
        "outputId": "821e72e8-bf37-49c4-b230-aa8d2d2ef7f9"
      },
      "source": [
        "modelo = LinearSVC(random_state=28)\n",
        "modelo.fit(X_treino,y_treino)\n",
        "\n",
        "predicoes = modelo.predict(X_teste)\n",
        "\n",
        "print(\"A acurácia média do modelo foi de: {}\".format(accuracy_score(y_teste,predicoes) ))\n",
        "print(classification_report(y_teste,predicoes))"
      ],
      "execution_count": null,
      "outputs": [
        {
          "output_type": "stream",
          "text": [
            "A acurácia média do modelo foi de: 0.6833333333333333\n",
            "              precision    recall  f1-score   support\n",
            "\n",
            "           0       0.96      0.38      0.55        60\n",
            "           1       0.61      0.98      0.76        60\n",
            "\n",
            "    accuracy                           0.68       120\n",
            "   macro avg       0.79      0.68      0.65       120\n",
            "weighted avg       0.79      0.68      0.65       120\n",
            "\n"
          ],
          "name": "stdout"
        },
        {
          "output_type": "stream",
          "text": [
            "/usr/local/lib/python3.7/dist-packages/sklearn/svm/_base.py:947: ConvergenceWarning: Liblinear failed to converge, increase the number of iterations.\n",
            "  \"the number of iterations.\", ConvergenceWarning)\n"
          ],
          "name": "stderr"
        }
      ]
    },
    {
      "cell_type": "markdown",
      "metadata": {
        "id": "bBcRos8IhAgL"
      },
      "source": [
        "O que podemos perceber logo de cara é que nosso modelo teve uma média de precisão bem baixa , apenas **0.683** , o que é bem ruim. Mas se você perceber bem , para classificar como \"fake\"(1) nosso modelo teve uma acurácia de 0.61 , já para \"não fake\"(0) teve de 0.96.\n",
        "\n",
        "O que ocorre é que o Linear SVC é bom para formular uma equação onde as features (variáveis X) sejam númericas e não booleanas (True ou False).\n",
        "\n",
        "\n",
        "O que pudemos perceber é que nosso modelo acabou por ter um viés na classificação"
      ]
    },
    {
      "cell_type": "markdown",
      "metadata": {
        "id": "Hx4g7Czfh2Pn"
      },
      "source": [
        "#### KNeighbors Classifier"
      ]
    },
    {
      "cell_type": "markdown",
      "metadata": {
        "id": "7-BsFmiVh_we"
      },
      "source": [
        "Esse é o modelo de classificação que eu acho mais interessante , o que ele faz basicamente é um \"agrupamento\" dos dados classificando-os. Ele não é totalmente um algorítimo de classificação , mas se de *cluster* . No fim o que ele faz é encontrar padrões nas duas possíveis classe (0 ou 1) , ou seja , imaginemos a seguinte situação:\n",
        "\n",
        "\n",
        "\n",
        "> *Perfis fakes **normalmente** não tem foto;*\n",
        "\n",
        "\n",
        "> *Um perfil sem foto manda mensagem;*\n",
        "\n",
        "\n",
        "\n",
        "> *Há uma **grande probabilidade** dele ser um fake visto que perfis fakes se encaixam em grupos onde **NORMALMENTE** não possuem foto*\n",
        "\n",
        "Caso queira saber mais sobre o KNeighbors Classifier , acesse o seguinte [artigo](https://www.tutorialspoint.com/scikit_learn/scikit_learn_kneighbors_classifier.htm)\n",
        "\n",
        "\n"
      ]
    },
    {
      "cell_type": "code",
      "metadata": {
        "colab": {
          "base_uri": "https://localhost:8080/"
        },
        "id": "aG6TAyncg-W3",
        "outputId": "fd601bca-f802-4e5d-ff03-e3bd5b615cdb"
      },
      "source": [
        "modelo = KNeighborsClassifier(n_neighbors=10 , weights=\"distance\")\n",
        "modelo.fit(X_treino,y_treino)\n",
        "\n",
        "predicoes = modelo.predict(X_teste)\n",
        "\n",
        "print(\"A acurácia média do modelo foi de :\" , accuracy_score(y_teste , predicoes))\n",
        "print(classification_report(y_teste , predicoes))"
      ],
      "execution_count": null,
      "outputs": [
        {
          "output_type": "stream",
          "text": [
            "A acurácia média do modelo foi de : 0.875\n",
            "              precision    recall  f1-score   support\n",
            "\n",
            "           0       0.86      0.90      0.88        60\n",
            "           1       0.89      0.85      0.87        60\n",
            "\n",
            "    accuracy                           0.88       120\n",
            "   macro avg       0.88      0.88      0.87       120\n",
            "weighted avg       0.88      0.88      0.87       120\n",
            "\n"
          ],
          "name": "stdout"
        }
      ]
    },
    {
      "cell_type": "markdown",
      "metadata": {
        "id": "Q7aaeP_SjrYE"
      },
      "source": [
        "Como já disse anteriormente , o KNeighbors não é propriamente um algorítimo de classifcação por completo , mas consegue exercer bem esse papel"
      ]
    },
    {
      "cell_type": "markdown",
      "metadata": {
        "id": "NTRST7Vgj4Of"
      },
      "source": [
        "A acurácia média do nosso modelo foi de 0.875 , uma taxa relativamente boa , mas o Random Forest Classifier nos trouxe uma precisão maior."
      ]
    },
    {
      "cell_type": "markdown",
      "metadata": {
        "id": "WRMgGUlJtjno"
      },
      "source": [
        "### **Bônus**: comparação de diferentes resultados:"
      ]
    },
    {
      "cell_type": "markdown",
      "metadata": {
        "id": "-jRS15wbtmph"
      },
      "source": [
        "Provavelmente se lembra que disse acima que não usaríamos dados escalados , certo? de fato não usaremos , mas como seriam nossos resultados caso tivéssemos feito isso? E se usássemos outros algorítimos de classificação? como seriam?\n",
        "\n",
        "\n",
        "Decidi fazer este teste e disponibilizar um gráfico que mostra os diferentes resultados , tanto para dados escalado quanto não escalados , assim como para mais classificadores:"
      ]
    },
    {
      "cell_type": "markdown",
      "metadata": {
        "id": "SfXWxikDup5v"
      },
      "source": [
        "<img src=\"https://www.dropbox.com/s/smf150ikyvho55h/Dados%20Escalados%20e%20Dados%20n%C3%A3o%20Escalados%20PTBR.png?dl=1\" width=750>"
      ]
    },
    {
      "cell_type": "markdown",
      "metadata": {
        "id": "H0bCbIQBxBIg"
      },
      "source": [
        "### **Conclusões**"
      ]
    },
    {
      "cell_type": "markdown",
      "metadata": {
        "id": "RUl7MKh5xJxV"
      },
      "source": [
        "A questão de perfis fakes não é apenas um simples problema de redes sociais no geral , acima disso , trás custo para as empresas e também , em certos casos , pode comprometer a experiência de determinados usuários na plataforma. Evidente , empresas de redes sociais se importam com seus usuários e e para isso tem cada vez mais investido em tecnologias de *Data Science* a fim de melhor a experiência de seus clientes.\n",
        "<br><br>\n",
        "Hoje vimos como usar *Machine Learning* para detecção de perfis fakes no instagram , com um resultado bom de detecção , pouco mais de **92,5% de taxa de precisão** , o que eu considero excelente , mas pode melhorar .\n",
        "<br><br>\n",
        "**Deixo o desafio à você , o que acha de melhorar esse modelo?**"
      ]
    },
    {
      "cell_type": "code",
      "metadata": {
        "id": "Ha70p-Kih6KZ"
      },
      "source": [
        ""
      ],
      "execution_count": null,
      "outputs": []
    }
  ]
}